{
 "cells": [
  {
   "cell_type": "markdown",
   "id": "substantial-audit",
   "metadata": {},
   "source": [
    "### Q.1) Write a program to find all pairs of an integer array whose sum is equal to a given number?"
   ]
  },
  {
   "cell_type": "code",
   "execution_count": 1,
   "id": "historical-inclusion",
   "metadata": {},
   "outputs": [
    {
     "name": "stdout",
     "output_type": "stream",
     "text": [
      "Count of pairs is 2\n"
     ]
    }
   ],
   "source": [
    "def pair_of_sum(arr, n, sum):\n",
    "    count = 0\n",
    "\n",
    "    for i in range(0, n):\n",
    "        for j in range(i+1,n):\n",
    "            if arr[i] + arr[j] == sum:\n",
    "                count += 1\n",
    "\n",
    "    return count\n",
    "arr = [1,2,3,4,5]\n",
    "n = len(arr)\n",
    "sum = 7\n",
    "print(\"Count of pairs is {}\".format(pair_of_sum(arr, n, sum)))"
   ]
  },
  {
   "cell_type": "markdown",
   "id": "pretty-genealogy",
   "metadata": {},
   "source": [
    "### Q.2) Write a program to reverse an array in place? In place means you cannot create a new array. You have to update the original array.¶"
   ]
  },
  {
   "cell_type": "code",
   "execution_count": 2,
   "id": "harmful-diary",
   "metadata": {},
   "outputs": [
    {
     "name": "stdout",
     "output_type": "stream",
     "text": [
      "[7, 2, 6, 8, 4, 5]\n",
      "Reversed array is None\n"
     ]
    }
   ],
   "source": [
    "def reverse_an_array(arr):\n",
    "    print(arr[::-1])\n",
    "\n",
    "arr = [5,4,8,6,2,7]\n",
    "print('Reversed array is {}'.format(reverse_an_array(arr)))"
   ]
  },
  {
   "cell_type": "markdown",
   "id": "loved-weapon",
   "metadata": {},
   "source": [
    "### Q.3) Write a program to check if two strings are a rotation of each other?"
   ]
  },
  {
   "cell_type": "code",
   "execution_count": 4,
   "id": "breeding-alabama",
   "metadata": {},
   "outputs": [],
   "source": [
    "def strRotations(str1, str2):\n",
    "    size1 = len(str1)\n",
    "    size2 = len(str2)\n",
    "    temp = ''\n",
    "\n",
    "    if size1 != size2:\n",
    "        return 0\n",
    "\n",
    "    temp = str1 + str2\n",
    "\n",
    "    if (temp.count(str2)> 0):\n",
    "        return 1\n",
    "    else:\n",
    "        return 0"
   ]
  },
  {
   "cell_type": "code",
   "execution_count": 5,
   "id": "industrial-craps",
   "metadata": {},
   "outputs": [
    {
     "name": "stdout",
     "output_type": "stream",
     "text": [
      "Strings are rotations of each other\n"
     ]
    }
   ],
   "source": [
    "str1 = 'AACD'\n",
    "str2 = 'ACDA'\n",
    "\n",
    "if strRotations(str1, str2):\n",
    "    print('Strings are rotations of each other')\n",
    "else:\n",
    "    print('Strings are not rotations of each other')"
   ]
  },
  {
   "cell_type": "markdown",
   "id": "hollywood-flooring",
   "metadata": {},
   "source": [
    "### Q.4 Write a program to print the first non-repeated character from a string?"
   ]
  },
  {
   "cell_type": "code",
   "execution_count": 1,
   "id": "accepted-review",
   "metadata": {},
   "outputs": [],
   "source": [
    "chars = 256\n",
    "\n",
    "def getCharCount(stri):\n",
    "    count = [0]*chars\n",
    "    for i in stri:\n",
    "        count[ord(i)] += 1\n",
    "    return count\n",
    "\n",
    "def firstNonRepeatingChar(stri):\n",
    "    count = getCharCount(stri)\n",
    "    index = -1\n",
    "    k = 0\n",
    "\n",
    "    for i in stri:\n",
    "        if count[ord(i)] == 1:\n",
    "            index = k\n",
    "            break\n",
    "        k = k + 1\n",
    "\n",
    "    return index"
   ]
  },
  {
   "cell_type": "code",
   "execution_count": 2,
   "id": "documented-thing",
   "metadata": {},
   "outputs": [
    {
     "name": "stdout",
     "output_type": "stream",
     "text": [
      "All characters are repeating or string is empty\n"
     ]
    }
   ],
   "source": [
    "stri = 'levvel'\n",
    "index = firstNonRepeatingChar(stri)\n",
    "if index == -1:\n",
    "    print('All characters are repeating or string is empty')\n",
    "else:\n",
    "    print('First non-repeating character is {}'.format(stri[index]))"
   ]
  },
  {
   "cell_type": "markdown",
   "id": "consecutive-westminster",
   "metadata": {},
   "source": [
    "### Q.5) Read about the Tower of Hanoi algorithm. Write a program to implement it."
   ]
  },
  {
   "cell_type": "code",
   "execution_count": 3,
   "id": "conditional-filename",
   "metadata": {},
   "outputs": [],
   "source": [
    "def TowerofHanoi(n, from_rod, to_rod, empty_rod):\n",
    "    if n==1:\n",
    "        print(\"Move disk 1 from rod\", from_rod,\"to rod\",to_rod)\n",
    "        return\n",
    "    TowerofHanoi(n-1,from_rod, empty_rod, to_rod)\n",
    "    print(\"Move disk\",n,\"from rod\", from_rod,\"to rod\",to_rod)\n",
    "    TowerofHanoi(n-1, empty_rod, to_rod, from_rod)"
   ]
  },
  {
   "cell_type": "code",
   "execution_count": 4,
   "id": "underlying-insured",
   "metadata": {},
   "outputs": [
    {
     "name": "stdout",
     "output_type": "stream",
     "text": [
      "Move disk 1 from rod A to rod B\n",
      "Move disk 2 from rod A to rod C\n",
      "Move disk 1 from rod B to rod C\n",
      "Move disk 3 from rod A to rod B\n",
      "Move disk 1 from rod C to rod A\n",
      "Move disk 2 from rod C to rod B\n",
      "Move disk 1 from rod A to rod B\n",
      "Move disk 4 from rod A to rod C\n",
      "Move disk 1 from rod B to rod C\n",
      "Move disk 2 from rod B to rod A\n",
      "Move disk 1 from rod C to rod A\n",
      "Move disk 3 from rod B to rod C\n",
      "Move disk 1 from rod A to rod B\n",
      "Move disk 2 from rod A to rod C\n",
      "Move disk 1 from rod B to rod C\n"
     ]
    }
   ],
   "source": [
    "n = 4\n",
    "TowerofHanoi(n , 'A', 'C', 'B')"
   ]
  },
  {
   "cell_type": "markdown",
   "id": "unavailable-connecticut",
   "metadata": {},
   "source": [
    "### Q.6) Read about infix, prefix and postfix expressions. Write a program to convert postfix to prefix expression."
   ]
  },
  {
   "cell_type": "code",
   "execution_count": 5,
   "id": "bright-empty",
   "metadata": {},
   "outputs": [],
   "source": [
    "def isOperator(x):\n",
    "    if x == \"+\":\n",
    "        return True\n",
    "    if x == \"-\":\n",
    "        return True\n",
    "    if x == \"/\":\n",
    "        return True\n",
    "    if x == \"*\":\n",
    "        return True\n",
    "    \n",
    "    return False\n",
    "\n",
    "def postToPre(postfix_exp):\n",
    "\n",
    "    s = []\n",
    "\n",
    "    length = len(postfix_exp)\n",
    "\n",
    "    for i in range(length):\n",
    "        if (isOperator(postfix_exp[i])):\n",
    "            op1 = s[-1]\n",
    "            s.pop()\n",
    "            op2 = s[-1]\n",
    "            s.pop()\n",
    "\n",
    "            temp = postfix_exp[i] + op2 + op1\n",
    "\n",
    "            s.append(temp)\n",
    "        else:\n",
    "            s.append(postfix_exp[i])\n",
    "\n",
    "    ans = \"\"\n",
    "    for i in s:\n",
    "        ans += i\n",
    "    return ans"
   ]
  },
  {
   "cell_type": "code",
   "execution_count": 6,
   "id": "mediterranean-police",
   "metadata": {},
   "outputs": [
    {
     "name": "stdout",
     "output_type": "stream",
     "text": [
      "Prefix: +AB-CD\n"
     ]
    }
   ],
   "source": [
    "postfix_exp = \"AB+CD-\"\n",
    "print(\"Prefix:\",(postToPre(str(postfix_exp))))"
   ]
  },
  {
   "cell_type": "markdown",
   "id": "manufactured-telescope",
   "metadata": {},
   "source": [
    "### Q.7) Write a program to convert prefix expression to infix expression."
   ]
  },
  {
   "cell_type": "code",
   "execution_count": 7,
   "id": "annual-shield",
   "metadata": {},
   "outputs": [],
   "source": [
    "def isOperator(x):\n",
    "    if x == \"*\" or x == \"+\" or x == \"-\" or x == \"/\" or x == \"^\" or x == \"(\" or x == \")\":\n",
    "        return True\n",
    "    else:\n",
    "        return False\n",
    "\n",
    "def preToInf(prefix_exp):\n",
    "    stack = []\n",
    "\n",
    "    i = len(prefix_exp) - 1\n",
    "    while i >= 0:\n",
    "        if not isOperator(prefix_exp[i]):\n",
    "            stack.append(prefix_exp[i])\n",
    "            i = i-1\n",
    "        else:\n",
    "            str = \"(\" + stack.pop() + prefix_exp[i] + stack.pop() + \")\"\n",
    "            stack.append(str)\n",
    "            i = i-1\n",
    "\n",
    "    return stack.pop()"
   ]
  },
  {
   "cell_type": "code",
   "execution_count": 8,
   "id": "prescribed-viewer",
   "metadata": {},
   "outputs": [
    {
     "name": "stdout",
     "output_type": "stream",
     "text": [
      "((A-(B/C))*((A/K)-L))\n"
     ]
    }
   ],
   "source": [
    "str = \"*-A/BC-/AKL\"\n",
    "print(preToInf(str))"
   ]
  },
  {
   "cell_type": "markdown",
   "id": "legislative-extension",
   "metadata": {},
   "source": [
    "### Q.8) Write a program to check if all the brackets are closed in a given code snippet."
   ]
  },
  {
   "cell_type": "code",
   "execution_count": 9,
   "id": "spectacular-estimate",
   "metadata": {},
   "outputs": [],
   "source": [
    "def bracketsClosed(expr):\n",
    "    stack = []\n",
    "\n",
    "    for i in expr:\n",
    "        if i in [\"(\", \"{\", \"[\"]:\n",
    "\n",
    "            stack.append(i)\n",
    "        else:\n",
    "            if not stack:\n",
    "                return False\n",
    "    \n",
    "            current_char = stack.pop()\n",
    "            if current_char == \"(\":\n",
    "                if i != \")\":\n",
    "                    return False\n",
    "            if current_char == \"{\":\n",
    "                if i != \"}\":\n",
    "                    return False\n",
    "            if current_char == \"[\":\n",
    "                if i != \"]\":\n",
    "                    return False\n",
    "    \n",
    "    if stack:\n",
    "        return False\n",
    "    return True"
   ]
  },
  {
   "cell_type": "code",
   "execution_count": 10,
   "id": "bibliographic-harvey",
   "metadata": {},
   "outputs": [
    {
     "name": "stdout",
     "output_type": "stream",
     "text": [
      "Brackets are closed properly\n"
     ]
    }
   ],
   "source": [
    "expr = \"{()}{[]}\"\n",
    "\n",
    "if bracketsClosed(expr):\n",
    "    print(\"Brackets are closed properly\")\n",
    "else:\n",
    "    print(\"Brackets are not closed properly\")"
   ]
  },
  {
   "cell_type": "markdown",
   "id": "activated-aquarium",
   "metadata": {},
   "source": [
    "### Q.9) Write a program to reverse a stack."
   ]
  },
  {
   "cell_type": "code",
   "execution_count": 11,
   "id": "adjustable-sucking",
   "metadata": {},
   "outputs": [
    {
     "name": "stdout",
     "output_type": "stream",
     "text": [
      "987654321\n"
     ]
    }
   ],
   "source": [
    "class Stack():\n",
    "    def __init__(self):\n",
    "        self.item=[]\n",
    "        self.n=0\n",
    "    def __len__(self):\n",
    "        return self.n\n",
    "    def isEmpty(self):\n",
    "        return self.n==0\n",
    "    def push(self,item):\n",
    "        self.item.append(item)\n",
    "        self.n+=1\n",
    "    def pop(self):\n",
    "        ele=self.item.pop()\n",
    "        self.n-=1\n",
    "        return ele\n",
    "    def getPeek(self):\n",
    "        if self.n>0:\n",
    "            return self.item[-1]\n",
    "        return \"Stack is empty\"\n",
    "    def getStackitem(self):\n",
    "        return [self.item[i] for i in range(self.n)]\n",
    "\n",
    "\n",
    "def reversing(data):\n",
    "    x=Stack()\n",
    "    for i in data:\n",
    "        x.push(i)\n",
    "    y=Stack()\n",
    "    while not x.isEmpty():\n",
    "        y.push(x.pop())\n",
    "    return \"\".join(y.getStackitem())\n",
    "\n",
    "print(reversing(\"123456789\"))"
   ]
  },
  {
   "cell_type": "markdown",
   "id": "dangerous-aerospace",
   "metadata": {},
   "source": [
    "### Q.10) Write a program to find the smallest number in using a stack.¶"
   ]
  },
  {
   "cell_type": "code",
   "execution_count": 12,
   "id": "received-medium",
   "metadata": {},
   "outputs": [],
   "source": [
    "class Node:\n",
    "\tdef __init__(self, value):\n",
    "\t\tself.value = value\n",
    "\t\tself.next = None\n",
    "\n",
    "\tdef __str__(self):\n",
    "\t\treturn \"Node({})\".format(self.value)\n",
    "\n",
    "\n",
    "\n",
    "class Stack:\n",
    "\tdef __init__(self):\n",
    "\t\tself.top = None\n",
    "\t\tself.count = 0\n",
    "\t\tself.minimum = None\n",
    "\t\t\n",
    "\n",
    "\tdef __str__(self):\n",
    "\t\ttemp = self.top\n",
    "\t\tout = []\n",
    "\t\twhile temp:\n",
    "\t\t\tout.append(str(temp.value))\n",
    "\t\t\ttemp = temp.next\n",
    "\t\tout = '\\n'.join(out)\n",
    "\t\treturn ('Top {} \\n\\nStack :\\n{}'.format(self.top,out))\n",
    "\t\t\n",
    "\t\n",
    "\tdef getMin(self):\n",
    "\t\tif self.top is None:\n",
    "\t\t\treturn \"Stack is empty\"\n",
    "\t\telse:\n",
    "\t\t\tprint(\"Minimum Element in the stack is: {}\" .format(self.minimum))\n",
    "\n",
    "\tdef isEmpty(self):\n",
    "\t\tif self.top == None:\n",
    "\t\t\treturn True\n",
    "\t\telse:\n",
    "\t\t\treturn False\n",
    "\n",
    "\n",
    "\tdef __len__(self):\n",
    "\t\tself.count = 0\n",
    "\t\ttempNode = self.top\n",
    "\t\twhile tempNode:\n",
    "\t\t\ttempNode = tempNode.next\n",
    "\t\t\tself.count+=1\n",
    "\t\treturn self.count\n",
    "\n",
    "\n",
    "\tdef peek(self):\n",
    "\t\tif self.top is None:\n",
    "\t\t\tprint (\"Stack is empty\")\n",
    "\t\telse:\n",
    "\t\t\tif self.top.value < self.minimum:\n",
    "\t\t\t\tprint(\"Top Most Element is: {}\" .format(self.minimum))\n",
    "\t\t\telse:\n",
    "\t\t\t\tprint(\"Top Most Element is: {}\" .format(self.top.value))\n",
    "\n",
    "\n",
    "\tdef push(self,value):\n",
    "\t\tif self.top is None:\n",
    "\t\t\tself.top = Node(value)\n",
    "\t\t\tself.minimum = value\n",
    "\t\t\n",
    "\t\telif value < self.minimum:\n",
    "\t\t\ttemp = (2 * value) - self.minimum\n",
    "\t\t\tnew_node = Node(temp)\n",
    "\t\t\tnew_node.next = self.top\n",
    "\t\t\tself.top = new_node\n",
    "\t\t\tself.minimum = value\n",
    "\t\telse:\n",
    "\t\t\tnew_node = Node(value)\n",
    "\t\t\tnew_node.next = self.top\n",
    "\t\t\tself.top = new_node\n",
    "\t\tprint(\"Number Inserted: {}\" .format(value))\n",
    "\n",
    "\tdef pop(self):\n",
    "\t\tif self.top is None:\n",
    "\t\t\tprint( \"Stack is empty\")\n",
    "\t\telse:\n",
    "\t\t\tremovedNode = self.top.value\n",
    "\t\t\tself.top = self.top.next\n",
    "\t\t\tif removedNode < self.minimum:\n",
    "\t\t\t\tprint (\"Top Most Element Removed :{} \" .format(self.minimum))\n",
    "\t\t\t\tself.minimum = ( ( 2 * self.minimum ) - removedNode )\n",
    "\t\t\telse:\n",
    "\t\t\t\tprint (\"Top Most Element Removed : {}\" .format(removedNode))"
   ]
  },
  {
   "cell_type": "code",
   "execution_count": 13,
   "id": "altered-junior",
   "metadata": {},
   "outputs": [
    {
     "name": "stdout",
     "output_type": "stream",
     "text": [
      "Number Inserted: 3\n",
      "Number Inserted: 5\n",
      "Minimum Element in the stack is: 3\n",
      "Number Inserted: 2\n",
      "Number Inserted: 1\n",
      "Minimum Element in the stack is: 1\n",
      "Top Most Element Removed :1 \n",
      "Minimum Element in the stack is: 2\n",
      "Top Most Element Removed :2 \n",
      "Top Most Element is: 5\n"
     ]
    }
   ],
   "source": [
    "stack = Stack()\n",
    "\n",
    "stack.push(3)\n",
    "stack.push(5)\n",
    "stack.getMin()\n",
    "stack.push(2)\n",
    "stack.push(1)\n",
    "stack.getMin()\t\n",
    "stack.pop()\n",
    "stack.getMin()\n",
    "stack.pop()\n",
    "stack.peek()"
   ]
  },
  {
   "cell_type": "code",
   "execution_count": null,
   "id": "lined-trader",
   "metadata": {},
   "outputs": [],
   "source": []
  }
 ],
 "metadata": {
  "kernelspec": {
   "display_name": "Python 3",
   "language": "python",
   "name": "python3"
  },
  "language_info": {
   "codemirror_mode": {
    "name": "ipython",
    "version": 3
   },
   "file_extension": ".py",
   "mimetype": "text/x-python",
   "name": "python",
   "nbconvert_exporter": "python",
   "pygments_lexer": "ipython3",
   "version": "3.9.2"
  }
 },
 "nbformat": 4,
 "nbformat_minor": 5
}
